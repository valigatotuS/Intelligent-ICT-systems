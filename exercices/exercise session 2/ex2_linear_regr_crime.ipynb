{
 "cells": [
  {
   "cell_type": "markdown",
   "metadata": {},
   "source": [
    "# Exercise2:  Regression analysis using crime dataset\n",
    "    \n",
    "\n",
    "In this exercise you need to perform multivariate regression analysis of Communities and Crime dataset for regression\n",
    "https://archive.ics.uci.edu/ml/datasets/Communities+and+Crime+Unnormalized\n",
    "We use edited version of the dataset, where only the most relevant features are kept.\n",
    "Your notebooks must contain not only code cells but also text cells with your analysis and comments.\n",
    "Try to perform following tasks:\n",
    "\n",
    "- Load crime dataset (CommViolPredUnnormalizedData_edited.csv)\n",
    "\n",
    "- Visualize data, comment on what you observe. Does this data need preprocessing?\n",
    "\n",
    "- Define your predicted values y_crime ('ViolentCrimesPerPop') and feature values X_crime (the rest of the columns)\n",
    "\n",
    "- Split the data into train and test set\n",
    "\n",
    "- Decide on type of regression to use\n",
    "\n",
    "- Perform regression analysis using sklearn without normalization and with normalization. Compare.\n",
    "\n",
    "- Perform regression without  regularization and with Ridge regularization. Compare.\n",
    "\n",
    "- Check how model performance depends on alpha parameter of Ridge regularization."
   ]
  },
  {
   "cell_type": "code",
   "execution_count": null,
   "metadata": {},
   "outputs": [],
   "source": []
  }
 ],
 "metadata": {
  "kernelspec": {
   "display_name": "Python 3",
   "language": "python",
   "name": "python3"
  },
  "language_info": {
   "codemirror_mode": {
    "name": "ipython",
    "version": 3
   },
   "file_extension": ".py",
   "mimetype": "text/x-python",
   "name": "python",
   "nbconvert_exporter": "python",
   "pygments_lexer": "ipython3",
   "version": "3.7.1"
  }
 },
 "nbformat": 4,
 "nbformat_minor": 2
}
